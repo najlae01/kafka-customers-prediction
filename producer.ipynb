{
 "cells": [
  {
   "cell_type": "code",
   "execution_count": 1,
   "id": "17b6a044",
   "metadata": {},
   "outputs": [
    {
     "name": "stdout",
     "output_type": "stream",
     "text": [
      "Collecting kafka-python\n",
      "  Downloading kafka_python-2.0.2-py2.py3-none-any.whl (246 kB)\n",
      "     -------------------------------------- 246.5/246.5 kB 1.3 MB/s eta 0:00:00\n",
      "Installing collected packages: kafka-python\n",
      "Successfully installed kafka-python-2.0.2\n",
      "Note: you may need to restart the kernel to use updated packages.\n"
     ]
    }
   ],
   "source": [
    "pip install kafka-python"
   ]
  },
  {
   "cell_type": "code",
   "execution_count": 1,
   "id": "91b85182",
   "metadata": {},
   "outputs": [],
   "source": [
    "import pandas as pd\n",
    "from kafka import KafkaProducer\n",
    "from time import sleep\n",
    "from json import dumps\n",
    "import json"
   ]
  },
  {
   "cell_type": "code",
   "execution_count": 2,
   "id": "7586a0ed",
   "metadata": {},
   "outputs": [],
   "source": [
    "producer = KafkaProducer(bootstrap_servers=['13.53.36.24:9092'],\n",
    "                         value_serializer=lambda x: \n",
    "                         dumps(x, default=str).encode('utf-8'))"
   ]
  },
  {
   "cell_type": "code",
   "execution_count": 3,
   "id": "f1081b39",
   "metadata": {},
   "outputs": [
    {
     "data": {
      "text/plain": [
       "<kafka.producer.future.FutureRecordMetadata at 0x229b27acdf0>"
      ]
     },
     "execution_count": 3,
     "metadata": {},
     "output_type": "execute_result"
    }
   ],
   "source": [
    "producer.send('demo_test', value={'hello':'world'})"
   ]
  },
  {
   "cell_type": "code",
   "execution_count": 5,
   "id": "7722da9b",
   "metadata": {},
   "outputs": [],
   "source": [
    "df = pd.read_excel(\"training/data/new_customers.xlsx\")"
   ]
  },
  {
   "cell_type": "code",
   "execution_count": 6,
   "id": "e0a80f85",
   "metadata": {},
   "outputs": [
    {
     "data": {
      "text/html": [
       "<div>\n",
       "<style scoped>\n",
       "    .dataframe tbody tr th:only-of-type {\n",
       "        vertical-align: middle;\n",
       "    }\n",
       "\n",
       "    .dataframe tbody tr th {\n",
       "        vertical-align: top;\n",
       "    }\n",
       "\n",
       "    .dataframe thead th {\n",
       "        text-align: right;\n",
       "    }\n",
       "</style>\n",
       "<table border=\"1\" class=\"dataframe\">\n",
       "  <thead>\n",
       "    <tr style=\"text-align: right;\">\n",
       "      <th></th>\n",
       "      <th>Names</th>\n",
       "      <th>Age</th>\n",
       "      <th>Total_Purchase</th>\n",
       "      <th>Account_Manager</th>\n",
       "      <th>Years</th>\n",
       "      <th>Num_Sites</th>\n",
       "      <th>Onboard_date</th>\n",
       "      <th>Location</th>\n",
       "      <th>Company</th>\n",
       "    </tr>\n",
       "  </thead>\n",
       "  <tbody>\n",
       "    <tr>\n",
       "      <th>0</th>\n",
       "      <td>Andrew Mccall</td>\n",
       "      <td>37</td>\n",
       "      <td>9935.53</td>\n",
       "      <td>1</td>\n",
       "      <td>7.71</td>\n",
       "      <td>8</td>\n",
       "      <td>2011-08-29 18:37:00</td>\n",
       "      <td>38612 Johnny Stravenue Nataliebury, WI 15717-8316</td>\n",
       "      <td>King Ltd</td>\n",
       "    </tr>\n",
       "    <tr>\n",
       "      <th>1</th>\n",
       "      <td>Michele Wright</td>\n",
       "      <td>23</td>\n",
       "      <td>7526.94</td>\n",
       "      <td>1</td>\n",
       "      <td>9.28</td>\n",
       "      <td>15</td>\n",
       "      <td>2013-07-22 18:19:00</td>\n",
       "      <td>21083 Nicole Junction Suite 332, Youngport, ME...</td>\n",
       "      <td>Cannon-Benson</td>\n",
       "    </tr>\n",
       "    <tr>\n",
       "      <th>2</th>\n",
       "      <td>Jeremy Chang</td>\n",
       "      <td>65</td>\n",
       "      <td>100.00</td>\n",
       "      <td>1</td>\n",
       "      <td>1.00</td>\n",
       "      <td>15</td>\n",
       "      <td>2006-12-11 07:48:00</td>\n",
       "      <td>085 Austin Views Lake Julialand, WY 63726-4298</td>\n",
       "      <td>Barron-Robertson</td>\n",
       "    </tr>\n",
       "    <tr>\n",
       "      <th>3</th>\n",
       "      <td>Megan Ferguson</td>\n",
       "      <td>32</td>\n",
       "      <td>6487.50</td>\n",
       "      <td>0</td>\n",
       "      <td>9.40</td>\n",
       "      <td>14</td>\n",
       "      <td>2016-10-28 05:32:00</td>\n",
       "      <td>922 Wright Branch North Cynthialand, NC 64721</td>\n",
       "      <td>Sexton-Golden</td>\n",
       "    </tr>\n",
       "    <tr>\n",
       "      <th>4</th>\n",
       "      <td>Taylor Young</td>\n",
       "      <td>32</td>\n",
       "      <td>13147.71</td>\n",
       "      <td>1</td>\n",
       "      <td>10.00</td>\n",
       "      <td>8</td>\n",
       "      <td>2012-03-20 00:36:00</td>\n",
       "      <td>Unit 0789 Box 0734 DPO AP 39702</td>\n",
       "      <td>Wood LLC</td>\n",
       "    </tr>\n",
       "  </tbody>\n",
       "</table>\n",
       "</div>"
      ],
      "text/plain": [
       "            Names  Age  Total_Purchase  Account_Manager  Years  Num_Sites  \\\n",
       "0   Andrew Mccall   37         9935.53                1   7.71          8   \n",
       "1  Michele Wright   23         7526.94                1   9.28         15   \n",
       "2    Jeremy Chang   65          100.00                1   1.00         15   \n",
       "3  Megan Ferguson   32         6487.50                0   9.40         14   \n",
       "4    Taylor Young   32        13147.71                1  10.00          8   \n",
       "\n",
       "         Onboard_date                                           Location  \\\n",
       "0 2011-08-29 18:37:00  38612 Johnny Stravenue Nataliebury, WI 15717-8316   \n",
       "1 2013-07-22 18:19:00  21083 Nicole Junction Suite 332, Youngport, ME...   \n",
       "2 2006-12-11 07:48:00     085 Austin Views Lake Julialand, WY 63726-4298   \n",
       "3 2016-10-28 05:32:00      922 Wright Branch North Cynthialand, NC 64721   \n",
       "4 2012-03-20 00:36:00                    Unit 0789 Box 0734 DPO AP 39702   \n",
       "\n",
       "            Company  \n",
       "0          King Ltd  \n",
       "1     Cannon-Benson  \n",
       "2  Barron-Robertson  \n",
       "3     Sexton-Golden  \n",
       "4          Wood LLC  "
      ]
     },
     "execution_count": 6,
     "metadata": {},
     "output_type": "execute_result"
    }
   ],
   "source": [
    "df.head()"
   ]
  },
  {
   "cell_type": "code",
   "execution_count": 7,
   "id": "a155f844",
   "metadata": {},
   "outputs": [],
   "source": [
    "import joblib\n",
    "model = joblib.load('training/logistic_regression_model.pkl')"
   ]
  },
  {
   "cell_type": "code",
   "execution_count": 8,
   "id": "337f54d3",
   "metadata": {},
   "outputs": [
    {
     "name": "stdout",
     "output_type": "stream",
     "text": [
      "[[ 0.0642337   0.34109799  0.35355339  0.35903026 -1.33394594  0.\n",
      "   4.          6.          2.        ]\n",
      " [-1.09197292 -0.28753489  0.35355339  0.91959354  1.21267813  6.\n",
      "   7.          2.          1.        ]\n",
      " [ 2.37664694 -2.22593815  0.35355339 -2.0367529   1.21267813  3.\n",
      "   2.          0.          0.        ]\n",
      " [-0.34869723 -0.5588248  -2.82842712  0.96243914  0.84887469  5.\n",
      "   8.          7.          6.        ]\n",
      " [-0.34869723  1.17946482  0.35355339  1.17666714 -1.33394594  7.\n",
      "   6.          8.          8.        ]\n",
      " [-1.1745591  -0.04785685  0.35355339 -1.15841809  0.84887469  4.\n",
      "   3.          1.          4.        ]\n",
      " [-0.34869723  0.32794117  0.35355339  0.07696339 -0.9701425   8.\n",
      "   0.          3.          7.        ]\n",
      " [ 0.55975082  1.41824765  0.35355339 -0.44432475 -0.24253563  1.\n",
      "   5.          5.          3.        ]\n",
      " [ 0.31199226 -0.14659694  0.35355339  0.14480226 -0.24253563  2.\n",
      "   1.          4.          5.        ]]\n",
      "            Names  Age  Total_Purchase  Account_Manager  Years  Num_Sites  \\\n",
      "0   Andrew Mccall   37         9935.53                1   7.71          8   \n",
      "1  Michele Wright   23         7526.94                1   9.28         15   \n",
      "2    Jeremy Chang   65          100.00                1   1.00         15   \n",
      "3  Megan Ferguson   32         6487.50                0   9.40         14   \n",
      "4    Taylor Young   32        13147.71                1  10.00          8   \n",
      "5   Jessica Drake   22         8445.26                1   3.46         14   \n",
      "6   Zachary Walsh   32         9885.12                1   6.92          9   \n",
      "7     Ashlee Carr   43        14062.60                1   5.46         11   \n",
      "8  Jennifer Lynch   40         8066.94                1   7.11         11   \n",
      "\n",
      "         Onboard_date                                           Location  \\\n",
      "0 2011-08-29 18:37:00  38612 Johnny Stravenue Nataliebury, WI 15717-8316   \n",
      "1 2013-07-22 18:19:00  21083 Nicole Junction Suite 332, Youngport, ME...   \n",
      "2 2006-12-11 07:48:00     085 Austin Views Lake Julialand, WY 63726-4298   \n",
      "3 2016-10-28 05:32:00      922 Wright Branch North Cynthialand, NC 64721   \n",
      "4 2012-03-20 00:36:00                    Unit 0789 Box 0734 DPO AP 39702   \n",
      "5 2011-02-04 19:29:00  1148 Tina Stravenue Apt. 978 South Carlos TX 2...   \n",
      "6 2006-03-09 14:50:00  25271 Roy Expressway Suite 147 Brownport, FM 5...   \n",
      "7 2011-09-29 05:47:00  3725 Caroline Stravenue South Christineview, M...   \n",
      "8 2006-03-28 15:42:00  363 Sandra Lodge Suite 144 South Ann, WI 51655...   \n",
      "\n",
      "            Company  Prediction  \n",
      "0          King Ltd           0  \n",
      "1     Cannon-Benson           1  \n",
      "2  Barron-Robertson           0  \n",
      "3     Sexton-Golden           0  \n",
      "4          Wood LLC           0  \n",
      "5     Parks-Robbins           0  \n",
      "6        Singh-Cole           0  \n",
      "7         Lopez PLC           0  \n",
      "8     Reed-Martinez           0  \n"
     ]
    }
   ],
   "source": [
    "from sklearn.compose import ColumnTransformer\n",
    "from sklearn.preprocessing import StandardScaler, FunctionTransformer, LabelEncoder\n",
    "import numpy as np\n",
    "\n",
    "# Handle missing values in the dataframe\n",
    "df.fillna(0, inplace=True)  # You can replace 0 with an appropriate value or use other imputation strategies\n",
    "\n",
    "# Separate numeric and non-numeric columns\n",
    "numeric_columns = df.select_dtypes(include=[np.number]).columns\n",
    "non_numeric_columns = df.select_dtypes(exclude=[np.number]).columns\n",
    "\n",
    "# Create transformers for each type of column\n",
    "numeric_transformer = StandardScaler()\n",
    "\n",
    "# Create a custom transformer for non-numeric columns\n",
    "def label_encode_column(X):\n",
    "    for column in X.columns:\n",
    "        le = LabelEncoder()\n",
    "        X[column] = le.fit_transform(X[column])\n",
    "    return X\n",
    "\n",
    "non_numeric_transformer = FunctionTransformer(label_encode_column)\n",
    "\n",
    "# Create a column transformer\n",
    "preprocessor = ColumnTransformer(\n",
    "    transformers=[\n",
    "        ('num', numeric_transformer, numeric_columns),\n",
    "        ('non_num', non_numeric_transformer, non_numeric_columns),\n",
    "    ]\n",
    ")\n",
    "\n",
    "# Apply the transformations to the new customers data\n",
    "features = preprocessor.fit_transform(df)\n",
    "print(features)\n",
    "\n",
    "# Predict using the pre-trained model\n",
    "predictions = model.predict(features)\n",
    "\n",
    "# Add the predictions to the dataframe\n",
    "df['Prediction'] = predictions\n",
    "\n",
    "# Display the dataframe with predictions\n",
    "print(df)"
   ]
  },
  {
   "cell_type": "code",
   "execution_count": 10,
   "id": "9cbe645c",
   "metadata": {},
   "outputs": [
    {
     "ename": "KeyboardInterrupt",
     "evalue": "",
     "output_type": "error",
     "traceback": [
      "\u001b[1;31m---------------------------------------------------------------------------\u001b[0m",
      "\u001b[1;31mKeyboardInterrupt\u001b[0m                         Traceback (most recent call last)",
      "\u001b[1;32m~\\AppData\\Local\\Temp\\ipykernel_176\\3097687593.py\u001b[0m in \u001b[0;36m<module>\u001b[1;34m\u001b[0m\n\u001b[0;32m      5\u001b[0m     \u001b[0mproducer\u001b[0m\u001b[1;33m.\u001b[0m\u001b[0msend\u001b[0m\u001b[1;33m(\u001b[0m\u001b[1;34m'demo_test'\u001b[0m\u001b[1;33m,\u001b[0m \u001b[0mvalue\u001b[0m\u001b[1;33m=\u001b[0m\u001b[0mdict_row\u001b[0m\u001b[1;33m)\u001b[0m\u001b[1;33m\u001b[0m\u001b[1;33m\u001b[0m\u001b[0m\n\u001b[0;32m      6\u001b[0m \u001b[1;33m\u001b[0m\u001b[0m\n\u001b[1;32m----> 7\u001b[1;33m     \u001b[0msleep\u001b[0m\u001b[1;33m(\u001b[0m\u001b[1;36m1\u001b[0m\u001b[1;33m)\u001b[0m\u001b[1;33m\u001b[0m\u001b[1;33m\u001b[0m\u001b[0m\n\u001b[0m",
      "\u001b[1;31mKeyboardInterrupt\u001b[0m: "
     ]
    }
   ],
   "source": [
    "while True:\n",
    "    # Sample a row from the dataframe\n",
    "    dict_row = df.sample(1).to_dict(orient='records')[0]\n",
    "    # Send the data row with the prediction to the Kafka topic\n",
    "    producer.send('demo_test', value=dict_row)\n",
    "\n",
    "    sleep(1)"
   ]
  },
  {
   "cell_type": "code",
   "execution_count": 7,
   "id": "ee687eae",
   "metadata": {},
   "outputs": [],
   "source": [
    "producer.flush() #clear data from kafka server"
   ]
  },
  {
   "cell_type": "code",
   "execution_count": null,
   "id": "7fa1aca8",
   "metadata": {},
   "outputs": [],
   "source": []
  }
 ],
 "metadata": {
  "kernelspec": {
   "display_name": "Python 3 (ipykernel)",
   "language": "python",
   "name": "python3"
  },
  "language_info": {
   "codemirror_mode": {
    "name": "ipython",
    "version": 3
   },
   "file_extension": ".py",
   "mimetype": "text/x-python",
   "name": "python",
   "nbconvert_exporter": "python",
   "pygments_lexer": "ipython3",
   "version": "3.9.13"
  }
 },
 "nbformat": 4,
 "nbformat_minor": 5
}
